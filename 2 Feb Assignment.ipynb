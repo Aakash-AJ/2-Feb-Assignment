{
 "cells": [
  {
   "cell_type": "code",
   "execution_count": null,
   "id": "d7bce069-f61f-4f3e-a78d-545ab391f89d",
   "metadata": {},
   "outputs": [],
   "source": [
    "Q1. Explain with an example each when to use a for loop and a while loop.\n",
    "\n",
    "For loop\n",
    "\n",
    "1.for loop is basically used for a specified range\n",
    "2.for loop is used for traversing a list,string\n",
    "3.infinite loop is not possible in for loop\n",
    "4.for loop's value are fixed at time of initialization(no of iterations is fixed(static))\n",
    " \n",
    "While Loop\n",
    "\n",
    "1.while loop's advantage is it can create infinite loops\n",
    "2.while loop can help variable to jump from a certain value to different value at runtime.\n",
    "  (no of iterations can be changed until the condition becomes false)"
   ]
  },
  {
   "cell_type": "code",
   "execution_count": 2,
   "id": "cce2ec20-82b3-4a24-94ce-f1edf8a2f503",
   "metadata": {},
   "outputs": [
    {
     "name": "stdout",
     "output_type": "stream",
     "text": [
      "7\n",
      "7\n",
      "7\n",
      "7\n"
     ]
    }
   ],
   "source": [
    "#Q1.Examples For loop\n",
    "# if we want to initialize loop's variable to 7\n",
    "# it does but no of iterations are fixed(i.e 4 time)\n",
    "for x in range(1,5):\n",
    "    x=7\n",
    "    print(x)\n",
    "    "
   ]
  },
  {
   "cell_type": "code",
   "execution_count": 3,
   "id": "b8cc9fd7-ca63-4bc5-a83e-dee688e9e8f8",
   "metadata": {},
   "outputs": [
    {
     "name": "stdout",
     "output_type": "stream",
     "text": [
      "0\n"
     ]
    }
   ],
   "source": [
    "#Q1 Examples While loop\n",
    "x=0\n",
    "while x<5:\n",
    "    print(x)\n",
    "    x=6\n",
    "# Nunmber of iterations are not fixed "
   ]
  },
  {
   "cell_type": "code",
   "execution_count": 7,
   "id": "519ae2e2-1876-43b0-bec4-1c6d089d1bdb",
   "metadata": {},
   "outputs": [
    {
     "name": "stdout",
     "output_type": "stream",
     "text": [
      "Sum using for loop =  55\n",
      "Sum using while loop =  55\n"
     ]
    }
   ],
   "source": [
    "#Q2. Write a python program to print the sum and product of the first 10 natural numbers using for and while loop.\n",
    "total = 0\n",
    "for x in range(1,11):\n",
    "    total+=x\n",
    "print('Sum using for loop = ',total)\n",
    "\n",
    "new = 0\n",
    "start = 1\n",
    "while start<=10:\n",
    "    new += start\n",
    "    start += 1\n",
    "print('Sum using while loop = ',new)"
   ]
  },
  {
   "cell_type": "code",
   "execution_count": 10,
   "id": "0e05e154-51ec-4989-87bb-621daad2e88e",
   "metadata": {},
   "outputs": [
    {
     "name": "stdin",
     "output_type": "stream",
     "text": [
      "No of units =  310\n"
     ]
    },
    {
     "name": "stdout",
     "output_type": "stream",
     "text": [
      "Bill =  2250.0\n"
     ]
    }
   ],
   "source": [
    "#Q3. Create a python program to compute the electricity bill for a household.\n",
    "unit = int(input('No of units = '))\n",
    "price = 0 \n",
    "if unit<=100:\n",
    "    price = (4.5 * unit)\n",
    "elif unit>100 and unit<=200:\n",
    "    price = 4.5 * 100 + 6 * (unit-100)\n",
    "elif unit > 200 and unit <= 300:\n",
    "    price = 4.5 * 100 + 6 * 100 + 10 * (unit - 200)\n",
    "else:\n",
    "    price = 4.5 * 100 + 6 * 100 + 10 * 100 + 20 * (unit-300)\n",
    "\n",
    "print('Bill = ',price)"
   ]
  },
  {
   "cell_type": "code",
   "execution_count": null,
   "id": "09c79650-d3f1-4a24-bd05-9d9847e9f2f2",
   "metadata": {},
   "outputs": [],
   "source": [
    "Q4. Create a list of numbers from 1 to 100. Use for loop and while loop to calculate the cube of each\n",
    "number and if the cube of that number is divisible by 4 or 5 then append that number in a list and print\n",
    "that list."
   ]
  },
  {
   "cell_type": "code",
   "execution_count": 11,
   "id": "de20e67b-0754-430f-92c5-1b445098c3b7",
   "metadata": {},
   "outputs": [
    {
     "name": "stdout",
     "output_type": "stream",
     "text": [
      "[2, 4, 5, 6, 8, 10, 12, 14, 15, 16, 18, 20, 22, 24, 25, 26, 28, 30, 32, 34, 35, 36, 38, 40, 42, 44, 45, 46, 48, 50, 52, 54, 55, 56, 58, 60, 62, 64, 65, 66, 68, 70, 72, 74, 75, 76, 78, 80, 82, 84, 85, 86, 88, 90, 92, 94, 95, 96, 98, 100]\n"
     ]
    }
   ],
   "source": [
    "#Q4 Ans\n",
    "result = []\n",
    "arr = list(range(1,101))\n",
    "for x in arr:\n",
    "    cube = x**3\n",
    "    if cube%4 == 0 or cube%5 == 0:\n",
    "        result.append(x)\n",
    "print(result)"
   ]
  },
  {
   "cell_type": "code",
   "execution_count": 12,
   "id": "0616352f-d707-4375-bbfa-0cc69fc28c35",
   "metadata": {},
   "outputs": [
    {
     "name": "stdout",
     "output_type": "stream",
     "text": [
      "[2, 4, 5, 6, 8, 10, 12, 14, 15, 16, 18, 20, 22, 24, 25, 26, 28, 30, 32, 34, 35, 36, 38, 40, 42, 44, 45, 46, 48, 50, 52, 54, 55, 56, 58, 60, 62, 64, 65, 66, 68, 70, 72, 74, 75, 76, 78, 80, 82, 84, 85, 86, 88, 90, 92, 94, 95, 96, 98, 100]\n"
     ]
    }
   ],
   "source": [
    "#Q4 Ans\n",
    "result = []\n",
    "i=1\n",
    "while i<101:\n",
    "    cube = i**3\n",
    "    if cube%4 == 0 or cube%5 == 0:\n",
    "        result.append(i)\n",
    "    i+=1\n",
    "print(result)"
   ]
  },
  {
   "cell_type": "code",
   "execution_count": null,
   "id": "ffe2f6fe-5bfd-4d04-b744-9b9cd98d4fda",
   "metadata": {},
   "outputs": [],
   "source": [
    "Q5. Write a program to filter count vowels in the below-given string.\n",
    "string = \"I want to become a data scientist\"\n"
   ]
  },
  {
   "cell_type": "code",
   "execution_count": 13,
   "id": "0ffa6b48-5885-4499-b8a9-1b9e278e0ee9",
   "metadata": {},
   "outputs": [
    {
     "name": "stdout",
     "output_type": "stream",
     "text": [
      "No of vowels =  12\n"
     ]
    }
   ],
   "source": [
    "#Q5 Ans\n",
    "string = \"I want to become a data scientist\"\n",
    "count_vowels = 0\n",
    "for x in string :\n",
    "    if x.lower() in ['a','e','i','o','u']:\n",
    "        count_vowels += 1\n",
    "        \n",
    "print('No of vowels = ',count_vowels) "
   ]
  },
  {
   "cell_type": "code",
   "execution_count": null,
   "id": "89b899cd-a5db-4404-aee9-1b6ac6b23b45",
   "metadata": {},
   "outputs": [],
   "source": []
  }
 ],
 "metadata": {
  "kernelspec": {
   "display_name": "Python 3 (ipykernel)",
   "language": "python",
   "name": "python3"
  },
  "language_info": {
   "codemirror_mode": {
    "name": "ipython",
    "version": 3
   },
   "file_extension": ".py",
   "mimetype": "text/x-python",
   "name": "python",
   "nbconvert_exporter": "python",
   "pygments_lexer": "ipython3",
   "version": "3.10.8"
  }
 },
 "nbformat": 4,
 "nbformat_minor": 5
}
